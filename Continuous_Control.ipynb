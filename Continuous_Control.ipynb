{
 "cells": [
  {
   "cell_type": "markdown",
   "metadata": {},
   "source": [
    "# Continuous Control\n",
    "\n",
    "---\n",
    "\n",
    "This notebook trains the agent for the second project of the [Deep Reinforcement Learning Nanodegree](https://www.udacity.com/course/deep-reinforcement-learning-nanodegree--nd893).\n",
    "\n",
    "### 1. Start the Environment\n",
    "\n",
    "We begin by importing the necessary packages.  If the code cell below returns an error, please revisit the project instructions to double-check that you have installed [Unity ML-Agents](https://github.com/Unity-Technologies/ml-agents/blob/master/docs/Installation.md) and [NumPy](http://www.numpy.org/). This code was specifically made and tested for the single agent version of the environment."
   ]
  },
  {
   "cell_type": "code",
   "execution_count": 1,
   "metadata": {},
   "outputs": [],
   "source": [
    "from unityagents import UnityEnvironment\n",
    "import numpy as np\n",
    "from collections import deque\n",
    "from ddpg_agent import Agent\n",
    "import torch\n",
    "import matplotlib.pyplot as plt\n",
    "%matplotlib inline"
   ]
  },
  {
   "cell_type": "markdown",
   "metadata": {},
   "source": [
    "Next, we will start the environment!  **_Before running the code cell below_**, change the `file_name` parameter to match the location of the Unity environment that you downloaded.\n",
    "\n",
    "- **Mac**: `\"path/to/Reacher.app\"`\n",
    "- **Windows** (x86): `\"path/to/Reacher_Windows_x86/Reacher.exe\"`\n",
    "- **Windows** (x86_64): `\"path/to/Reacher_Windows_x86_64/Reacher.exe\"`\n",
    "- **Linux** (x86): `\"path/to/Reacher_Linux/Reacher.x86\"`\n",
    "- **Linux** (x86_64): `\"path/to/Reacher_Linux/Reacher.x86_64\"`\n",
    "- **Linux** (x86, headless): `\"path/to/Reacher_Linux_NoVis/Reacher.x86\"`\n",
    "- **Linux** (x86_64, headless): `\"path/to/Reacher_Linux_NoVis/Reacher.x86_64\"`\n",
    "\n",
    "For instance, if you are using a Mac, then you downloaded `Reacher.app`.  If this file is in the same folder as the notebook, then the line below should appear as follows:\n",
    "```\n",
    "env = UnityEnvironment(file_name=\"Reacher.app\")\n",
    "```"
   ]
  },
  {
   "cell_type": "code",
   "execution_count": 2,
   "metadata": {},
   "outputs": [
    {
     "name": "stderr",
     "output_type": "stream",
     "text": [
      "INFO:unityagents:\n",
      "'Academy' started successfully!\n",
      "Unity Academy name: Academy\n",
      "        Number of Brains: 1\n",
      "        Number of External Brains : 1\n",
      "        Lesson number : 0\n",
      "        Reset Parameters :\n",
      "\t\tgoal_speed -> 1.0\n",
      "\t\tgoal_size -> 5.0\n",
      "Unity brain name: ReacherBrain\n",
      "        Number of Visual Observations (per agent): 0\n",
      "        Vector Observation space type: continuous\n",
      "        Vector Observation space size (per agent): 33\n",
      "        Number of stacked Vector Observation: 1\n",
      "        Vector Action space type: continuous\n",
      "        Vector Action space size (per agent): 4\n",
      "        Vector Action descriptions: , , , \n"
     ]
    }
   ],
   "source": [
    "env = UnityEnvironment(file_name='./Reacher_Windows_x86_64_1_agent/Reacher.exe')"
   ]
  },
  {
   "cell_type": "markdown",
   "metadata": {},
   "source": [
    "Environments contain **_brains_** which are responsible for deciding the actions of their associated agents. Here we check for the first brain available, and set it as the default brain we will be controlling from Python."
   ]
  },
  {
   "cell_type": "code",
   "execution_count": 3,
   "metadata": {},
   "outputs": [],
   "source": [
    "# get the default brain\n",
    "brain_name = env.brain_names[0]\n",
    "brain = env.brains[brain_name]"
   ]
  },
  {
   "cell_type": "markdown",
   "metadata": {},
   "source": [
    "### 2. Examine the State and Action Spaces\n",
    "\n",
    "In this environment, a double-jointed arm can move to target locations. A reward of `+0.1` is provided for each step that the agent's hand is in the goal location. Thus, the goal of your agent is to maintain its position at the target location for as many time steps as possible.\n",
    "\n",
    "The observation space consists of `33` variables corresponding to position, rotation, velocity, and angular velocities of the arm.  Each action is a vector with four numbers, corresponding to torque applicable to two joints.  Every entry in the action vector must be a number between `-1` and `1`.\n",
    "\n",
    "Run the code cell below to print some information about the environment."
   ]
  },
  {
   "cell_type": "code",
   "execution_count": 4,
   "metadata": {},
   "outputs": [
    {
     "name": "stdout",
     "output_type": "stream",
     "text": [
      "Number of agents: 1\n",
      "Size of each action: 4\n",
      "There are 1 agents. Each observes a state with length: 33\n",
      "The state for the first agent looks like: [ 0.00000000e+00 -4.00000000e+00  0.00000000e+00  1.00000000e+00\n",
      " -0.00000000e+00 -0.00000000e+00 -4.37113883e-08  0.00000000e+00\n",
      "  0.00000000e+00  0.00000000e+00  0.00000000e+00  0.00000000e+00\n",
      "  0.00000000e+00  0.00000000e+00 -1.00000000e+01  0.00000000e+00\n",
      "  1.00000000e+00 -0.00000000e+00 -0.00000000e+00 -4.37113883e-08\n",
      "  0.00000000e+00  0.00000000e+00  0.00000000e+00  0.00000000e+00\n",
      "  0.00000000e+00  0.00000000e+00  5.75471878e+00 -1.00000000e+00\n",
      "  5.55726671e+00  0.00000000e+00  1.00000000e+00  0.00000000e+00\n",
      " -1.68164849e-01]\n"
     ]
    }
   ],
   "source": [
    "# reset the environment\n",
    "env_info = env.reset(train_mode=True)[brain_name]\n",
    "\n",
    "# number of agents\n",
    "num_agents = len(env_info.agents)\n",
    "print('Number of agents:', num_agents)\n",
    "\n",
    "# size of each action\n",
    "action_size = brain.vector_action_space_size\n",
    "print('Size of each action:', action_size)\n",
    "\n",
    "# examine the state space \n",
    "states = env_info.vector_observations\n",
    "state_size = states.shape[1]\n",
    "print('There are {} agents. Each observes a state with length: {}'.format(states.shape[0], state_size))\n",
    "print('The state for the first agent looks like:', states[0])"
   ]
  },
  {
   "cell_type": "markdown",
   "metadata": {},
   "source": [
    "### 3. Create Agent\n",
    "\n",
    "For this project, we are going to use a Deep Deterministic Policy Gradient (DDPG) agent. Below we will initialize this agent."
   ]
  },
  {
   "cell_type": "code",
   "execution_count": 5,
   "metadata": {},
   "outputs": [],
   "source": [
    "agent = Agent(state_size=state_size, action_size=action_size, random_seed=10)"
   ]
  },
  {
   "cell_type": "markdown",
   "metadata": {},
   "source": [
    "### 4. Random Agent Baseline\n",
    "\n",
    "As a baseline, we can watch how a random agent performs in this environment."
   ]
  },
  {
   "cell_type": "code",
   "execution_count": 6,
   "metadata": {},
   "outputs": [],
   "source": [
    "env_info = env.reset(train_mode=False)[brain_name]     # reset the environment    \n",
    "states = env_info.vector_observations                  # get the current state (for each agent)\n",
    "scores = np.zeros(num_agents)                          # initialize the score (for each agent)\n",
    "while True:\n",
    "    actions = np.random.randn(num_agents, action_size) # select an action (for each agent)\n",
    "    actions = np.clip(actions, -1, 1)                  # all actions between -1 and 1\n",
    "    env_info = env.step(actions)[brain_name]           # send all actions to tne environment\n",
    "    next_states = env_info.vector_observations         # get next state (for each agent)\n",
    "    rewards = env_info.rewards                         # get reward (for each agent)\n",
    "    dones = env_info.local_done                        # see if episode finished\n",
    "    scores += env_info.rewards                         # update the score (for each agent)\n",
    "    states = next_states                               # roll over states to next time step\n",
    "    if np.any(dones):                                  # exit loop if episode finished\n",
    "        break\n",
    "print('Total score (averaged over agents) this episode: {}'.format(np.mean(scores)))"
   ]
  },
  {
   "cell_type": "markdown",
   "metadata": {},
   "source": [
    "### 5. Train DDPG Agent\n",
    "\n",
    "In this section we will be defining the training loop for our DDPG agent and running it."
   ]
  },
  {
   "cell_type": "code",
   "execution_count": 7,
   "metadata": {},
   "outputs": [
    {
     "name": "stderr",
     "output_type": "stream",
     "text": [
      "C:\\Users\\Trevor\\anaconda3\\envs\\drlnd_clean\\lib\\site-packages\\torch\\nn\\functional.py:1795: UserWarning: nn.functional.tanh is deprecated. Use torch.tanh instead.\n",
      "  warnings.warn(\"nn.functional.tanh is deprecated. Use torch.tanh instead.\")\n"
     ]
    },
    {
     "name": "stdout",
     "output_type": "stream",
     "text": [
      "Episode 10\tAverage Score: 0.43\tScore: 0.85\n",
      "Episode 20\tAverage Score: 0.56\tScore: 0.61\n",
      "Episode 30\tAverage Score: 0.63\tScore: 2.11\n",
      "Episode 40\tAverage Score: 0.79\tScore: 1.73\n",
      "Episode 50\tAverage Score: 0.95\tScore: 1.68\n",
      "Episode 60\tAverage Score: 1.07\tScore: 0.98\n",
      "Episode 70\tAverage Score: 1.22\tScore: 1.77\n",
      "Episode 80\tAverage Score: 1.21\tScore: 2.75\n",
      "Episode 90\tAverage Score: 1.20\tScore: 1.57\n",
      "Episode 100\tAverage Score: 1.27\tScore: 1.49\n",
      "Episode 110\tAverage Score: 1.46\tScore: 1.18\n",
      "Episode 120\tAverage Score: 1.62\tScore: 2.98\n",
      "Episode 130\tAverage Score: 1.71\tScore: 2.25\n",
      "Episode 140\tAverage Score: 1.84\tScore: 4.39\n",
      "Episode 150\tAverage Score: 1.97\tScore: 3.07\n",
      "Episode 160\tAverage Score: 2.09\tScore: 4.00\n",
      "Episode 170\tAverage Score: 2.19\tScore: 1.35\n",
      "Episode 180\tAverage Score: 2.35\tScore: 1.98\n",
      "Episode 190\tAverage Score: 2.62\tScore: 1.87\n",
      "Episode 200\tAverage Score: 2.77\tScore: 2.99\n",
      "Episode 210\tAverage Score: 2.94\tScore: 3.81\n",
      "Episode 220\tAverage Score: 3.14\tScore: 9.28\n",
      "Episode 230\tAverage Score: 3.45\tScore: 2.72\n",
      "Episode 240\tAverage Score: 3.71\tScore: 4.447\n",
      "Episode 250\tAverage Score: 4.02\tScore: 6.81\n",
      "Episode 260\tAverage Score: 4.08\tScore: 3.48\n",
      "Episode 270\tAverage Score: 4.12\tScore: 4.71\n",
      "Episode 280\tAverage Score: 4.18\tScore: 5.51\n",
      "Episode 290\tAverage Score: 4.20\tScore: 2.63\n",
      "Episode 300\tAverage Score: 4.37\tScore: 4.74\n",
      "Episode 310\tAverage Score: 4.55\tScore: 4.65\n",
      "Episode 320\tAverage Score: 4.79\tScore: 9.03\n",
      "Episode 330\tAverage Score: 5.03\tScore: 14.17\n",
      "Episode 340\tAverage Score: 5.19\tScore: 7.949\n",
      "Episode 350\tAverage Score: 5.25\tScore: 4.872\n",
      "Episode 360\tAverage Score: 5.71\tScore: 3.486\n",
      "Episode 370\tAverage Score: 6.13\tScore: 11.18\n",
      "Episode 380\tAverage Score: 6.76\tScore: 7.955\n",
      "Episode 390\tAverage Score: 7.32\tScore: 5.722\n",
      "Episode 400\tAverage Score: 7.73\tScore: 7.361\n",
      "Episode 410\tAverage Score: 8.46\tScore: 18.67\n",
      "Episode 420\tAverage Score: 8.93\tScore: 6.799\n",
      "Episode 430\tAverage Score: 9.50\tScore: 6.855\n",
      "Episode 440\tAverage Score: 10.23\tScore: 12.28\n",
      "Episode 450\tAverage Score: 10.92\tScore: 10.26\n",
      "Episode 460\tAverage Score: 11.42\tScore: 19.48\n",
      "Episode 470\tAverage Score: 12.32\tScore: 13.42\n",
      "Episode 480\tAverage Score: 12.98\tScore: 21.89\n",
      "Episode 490\tAverage Score: 14.05\tScore: 32.95\n",
      "Episode 500\tAverage Score: 15.55\tScore: 17.87\n",
      "Episode 510\tAverage Score: 16.29\tScore: 14.22\n",
      "Episode 520\tAverage Score: 17.83\tScore: 23.27\n",
      "Episode 530\tAverage Score: 19.46\tScore: 14.12\n",
      "Episode 540\tAverage Score: 20.64\tScore: 34.38\n",
      "Episode 550\tAverage Score: 21.74\tScore: 18.95\n",
      "Episode 560\tAverage Score: 22.78\tScore: 24.85\n",
      "Episode 570\tAverage Score: 23.27\tScore: 15.90\n",
      "Episode 580\tAverage Score: 24.12\tScore: 28.56\n",
      "Episode 590\tAverage Score: 24.87\tScore: 33.07\n",
      "Episode 600\tAverage Score: 24.89\tScore: 31.88\n",
      "Episode 610\tAverage Score: 25.47\tScore: 36.70\n",
      "Episode 620\tAverage Score: 25.21\tScore: 16.80\n",
      "Episode 630\tAverage Score: 24.95\tScore: 25.45\n",
      "Episode 640\tAverage Score: 25.34\tScore: 26.25\n",
      "Episode 650\tAverage Score: 25.99\tScore: 30.07\n",
      "Episode 660\tAverage Score: 26.67\tScore: 35.59\n",
      "Episode 670\tAverage Score: 27.66\tScore: 37.37\n",
      "Episode 680\tAverage Score: 28.11\tScore: 27.27\n",
      "Episode 690\tAverage Score: 28.25\tScore: 37.66\n",
      "Episode 700\tAverage Score: 29.43\tScore: 35.63\n",
      "Episode 708\tAverage Score: 30.09\tScore: 32.99\n",
      "Environment solved in 708 episodes!\tAverage Score: 32.99\n"
     ]
    },
    {
     "data": {
      "image/png": "[encoded data removed]",
      "text/plain": [
       "<Figure size 432x288 with 1 Axes>"
      ]
     },
     "metadata": {
      "needs_background": "light"
     },
     "output_type": "display_data"
    }
   ],
   "source": [
    "def ddpg(n_episodes=2000, epsilon=1.0, epsilon_decay=0.97):\n",
    "    scores_deque = deque(maxlen=100)\n",
    "    scores = []\n",
    "    for i_episode in range(1, n_episodes+1):\n",
    "        env_info = env.reset(train_mode=True)[brain_name]       # reset the environment\n",
    "        agent.reset(epsilon=epsilon)                            # reset the agent and update epsilon\n",
    "        epsilon *= epsilon_decay                                # decay epsilon\n",
    "        state = env_info.vector_observations                    # get the current state\n",
    "        score = np.zeros(num_agents)\n",
    "        while True:\n",
    "            action = []\n",
    "            for a in range(num_agents):                         # get an action for each agent\n",
    "                action.append(agent.act(state[a]))\n",
    "            env_info = env.step(action)[brain_name]             # send the action to the environment\n",
    "            next_state = env_info.vector_observations           # get the next state\n",
    "            reward = env_info.rewards                           # get the reward\n",
    "            done = env_info.local_done                          # see if episode has finished\n",
    "            agent.step(state, action, reward, next_state, done) # update the environment\n",
    "            state = next_state\n",
    "            score += reward\n",
    "            if any(done):                                       # exit loop if episode finished\n",
    "                break \n",
    "        scores_deque.append(np.mean(score))                     # record scores in 100 score buffer\n",
    "        scores.append(np.mean(score))                           # record scores\n",
    "        print('\\rEpisode {}\\tAverage Score: {:.2f}\\tScore: {:.2f}'.format(i_episode, np.mean(scores_deque), np.mean(score)), end=\"\")\n",
    "        if i_episode % 10 == 0:                                 # print the score and save a checkpoint every 10 episodes\n",
    "            torch.save(agent.actor_local.state_dict(), 'checkpoint_actor.pth')\n",
    "            torch.save(agent.critic_local.state_dict(), 'checkpoint_critic.pth')\n",
    "            print('\\rEpisode {}\\tAverage Score: {:.2f}'.format(i_episode, np.mean(scores_deque)))   \n",
    "        if np.mean(scores_deque)>=30.0:                # save the final agent and stop when the environment is solved\n",
    "            print('\\nEnvironment solved in {:d} episodes!\\tAverage Score: {:.2f}'.format(i_episode, np.mean(scores_deque)))\n",
    "            torch.save(agent.actor_local.state_dict(), 'checkpoint_actor.pth')\n",
    "            torch.save(agent.critic_local.state_dict(), 'checkpoint_critic.pth')\n",
    "            break\n",
    "    return scores\n",
    "\n",
    "# run the ddpg training loop\n",
    "scores = ddpg()\n",
    "\n",
    "# plot the scores\n",
    "fig = plt.figure()\n",
    "ax = fig.add_subplot(111)\n",
    "plt.plot(np.arange(1, len(scores)+1), scores)\n",
    "plt.ylabel('Score')\n",
    "plt.xlabel('Episode #')\n",
    "plt.show()"
   ]
  },
  {
   "cell_type": "markdown",
   "metadata": {},
   "source": [
    "### 6. Watch Final Agent\n",
    "\n",
    "Now that we've solved the environment. Let's watch our final agent in 1 episode."
   ]
  },
  {
   "cell_type": "code",
   "execution_count": 8,
   "metadata": {},
   "outputs": [
    {
     "name": "stderr",
     "output_type": "stream",
     "text": [
      "C:\\Users\\Trevor\\anaconda3\\envs\\drlnd_clean\\lib\\site-packages\\torch\\nn\\functional.py:1795: UserWarning: nn.functional.tanh is deprecated. Use torch.tanh instead.\n",
      "  warnings.warn(\"nn.functional.tanh is deprecated. Use torch.tanh instead.\")\n"
     ]
    },
    {
     "name": "stdout",
     "output_type": "stream",
     "text": [
      "Score: 27.30999938957393\n"
     ]
    }
   ],
   "source": [
    "agent.actor_local.load_state_dict(torch.load('checkpoint_actor.pth'))\n",
    "agent.critic_local.load_state_dict(torch.load('checkpoint_critic.pth'))\n",
    "env_info = env.reset(train_mode=False)[brain_name] # reset the environment\n",
    "state = env_info.vector_observations               # get the current state\n",
    "score = np.zeros(num_agents)                       # initialize the score\n",
    "while True:\n",
    "    action = []\n",
    "    for a in range(num_agents):                    # get an action for each agent\n",
    "        action.append(agent.act(state[a], add_noise=False))\n",
    "    env_info = env.step(action)[brain_name]        # send the action to the environment\n",
    "    next_state = env_info.vector_observations      # get the next state\n",
    "    reward = env_info.rewards                      # get the reward\n",
    "    done = env_info.local_done                     # see if episode has finished\n",
    "    score += reward                                # update the score\n",
    "    state = next_state                             # roll over the state to next time step\n",
    "    if any(done):                                  # exit loop if episode finished\n",
    "        break\n",
    "\n",
    "print(\"Score: {}\".format(np.mean(score)))"
   ]
  },
  {
   "cell_type": "markdown",
   "metadata": {},
   "source": [
    "When finished, you can close the environment."
   ]
  },
  {
   "cell_type": "code",
   "execution_count": 9,
   "metadata": {},
   "outputs": [],
   "source": [
    "env.close()"
   ]
  },
  {
   "cell_type": "code",
   "execution_count": null,
   "metadata": {},
   "outputs": [],
   "source": []
  }
 ],
 "metadata": {
  "kernelspec": {
   "display_name": "Python 3",
   "language": "python",
   "name": "python3"
  },
  "language_info": {
   "codemirror_mode": {
    "name": "ipython",
    "version": 3
   },
   "file_extension": ".py",
   "mimetype": "text/x-python",
   "name": "python",
   "nbconvert_exporter": "python",
   "pygments_lexer": "ipython3",
   "version": "3.6.13"
  }
 },
 "nbformat": 4,
 "nbformat_minor": 2
}
